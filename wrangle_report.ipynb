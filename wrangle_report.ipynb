{
 "cells": [
  {
   "cell_type": "markdown",
   "metadata": {},
   "source": [
    "### Wrangle Report\n",
    "\n",
    "Briefly describe your wrangling efforts. This is to be framed as an internal document.\n"
   ]
  },
  {
   "cell_type": "markdown",
   "metadata": {},
   "source": [
    "We gathered three separate tables at first. \n",
    "1. `archive` includes tweet ID, tweet time and the content of the tweet, ...etc. information.\n",
    "2. `img_df` includes the dog type prediction results and probabilities of each dog picture in the Tweet.\n",
    "3. `tweet_df` includes Tweet info queried from the Tweeter API includes retweet numbers, like numbers and length of the Tweet"
   ]
  },
  {
   "cell_type": "markdown",
   "metadata": {},
   "source": [
    "In the wrangling process, I listed some issues in these dataframes and fixed them.\n",
    "#### Quality\n",
    "\n",
    "`archive` table\n",
    "    1. Timestamp is a datetime not an object\n",
    "    2. Missing \"in_reply_to_status_id\", \"in_reply_to_user_id\", \"retweeted_status_id\",   \"retweeted_status_user_id\", \"retweeted_status_timestamp\" and \"expanded_urls\". (can't fix yet)\n",
    "    3. Tweet_id 835246439529840640 rating_denominator = 0 and rating_numerator = 960. I would assume it's a typo of 96/100 \n",
    "    4. Since we only want original ratings (no retweets) that have images, so delete those tweets with retweet_id\n",
    "    5. Some animal names not capitalized\n",
    "    6. After deleting rows with retweet_id, we can delete \"retweeted_status_id\", \"retweeted_status_user_id\" and \"retweeted_status_timestamp\" since they are useless for the analysis\n",
    "    7. Some dogs have more than one dog \"stage\". Ex: tweet_id: 817777686764523521 (can not fix)\n",
    "`img_df` table\n",
    "    1. Delete those rows with \"p1_dog\" == False, since our analysis only want to focus on dogs rating\n",
    "    \n",
    "    \n",
    "    \n",
    "#### Tidiness\n",
    "`archive` table\n",
    "    1. One variable, dog stage, in four columns (doggo, floofer, pupper, puppo)\n",
    "    2. Overall_rating can be calculated with rating_numerator/rating_denominator, combining two columns into one\n",
    "    3. Animal breed \"p1\" from img table can be added to archive table since it's also a part of info of the tweet\n",
    "    4. tweet_df table can be merged with archive table with tweet_id"
   ]
  },
  {
   "cell_type": "markdown",
   "metadata": {},
   "source": [
    "After cleaning issues listed above, I combined the three dataframes into one dataframe `df`. <br>\n",
    "Though there are some missing data and wrong documented dog stages can not be fixed, we can still use the dataframe to do some analysis."
   ]
  },
  {
   "cell_type": "code",
   "execution_count": null,
   "metadata": {},
   "outputs": [],
   "source": []
  }
 ],
 "metadata": {
  "kernelspec": {
   "display_name": "Python 3",
   "language": "python",
   "name": "python3"
  },
  "language_info": {
   "codemirror_mode": {
    "name": "ipython",
    "version": 3
   },
   "file_extension": ".py",
   "mimetype": "text/x-python",
   "name": "python",
   "nbconvert_exporter": "python",
   "pygments_lexer": "ipython3",
   "version": "3.7.2"
  }
 },
 "nbformat": 4,
 "nbformat_minor": 2
}
