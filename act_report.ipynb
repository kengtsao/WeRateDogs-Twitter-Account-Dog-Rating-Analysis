{
 "cells": [
  {
   "cell_type": "markdown",
   "metadata": {},
   "source": [
    "### Act Report\n",
    "#### Insights I learnt from the archived Tweeter data: \n",
    "\n",
    "1. Dog rating in the WeRateDogs account has no relationship with the popularity, which can be defined with number of retweet and numebr of like, of the Tweet. The correlation coefficient between rating and number of retweet is only 0.015 and the correlation coefficient between rating and number of like is only 0.014. Even if the dog photo is rated with high score by WeRateDogs, the tweet might not be more popular than other dogs with low rating. \n",
    "\n",
    "2. 1/3 of the dogs in archive Tweet data have `N` as the first character of their names. There is a trend to name your dog starting with `N` <br>\n",
    "\n",
    "3. Tweeter is getting more and more popular from 2015 to 2017, so the retweet number and like number are growing dramastically within the three years. <br>\n",
    "\n",
    "4. Like number is highly related to retweet number. The correlation coefficient is 0.927."
   ]
  },
  {
   "cell_type": "markdown",
   "metadata": {},
   "source": [
    "#### Visualization "
   ]
  },
  {
   "cell_type": "markdown",
   "metadata": {},
   "source": [
    "1. 700+ Dogs names are starting with `N`. The frequency of having other first character is less than 1/6 of the chance of starting with `N`.\n"
   ]
  },
  {
   "cell_type": "markdown",
   "metadata": {},
   "source": [
    "<img src=\"First Character of Dog Name.png\">"
   ]
  },
  {
   "cell_type": "markdown",
   "metadata": {},
   "source": [
    "2. Retweet number and like number are growing. Tweets posted in 2017 are having more likes and retweets than Tweets posted in previous time, which means this account is being more and more popular and people love to retweet the tweets to share with their friends."
   ]
  },
  {
   "cell_type": "markdown",
   "metadata": {},
   "source": [
    "<img src=\"Time Trend of Retweet and Like Number.png\">"
   ]
  },
  {
   "cell_type": "markdown",
   "metadata": {},
   "source": [
    "3. The average of retweets and likes of dog species. We can see from the plot that the top five dog species that received most likes are `Saluki` , `Flat-coated Retriver` , `French Buildog` , `Black and Tan Coonhound` and `Afghan Hound`. <br>\n",
    "Among the top five species, though `Saluki` is not the one who has the most retweets, it's still the most popular species that received the most likes. <br>\n",
    "There is a clear trend that the more retweets a tweet has, the more likes it has.\n"
   ]
  },
  {
   "cell_type": "markdown",
   "metadata": {},
   "source": [
    "<img src=\"Number of Retweet and Number of Like Relationship between Dog Species.png\">"
   ]
  },
  {
   "cell_type": "code",
   "execution_count": null,
   "metadata": {},
   "outputs": [],
   "source": []
  }
 ],
 "metadata": {
  "kernelspec": {
   "display_name": "Python 3",
   "language": "python",
   "name": "python3"
  },
  "language_info": {
   "codemirror_mode": {
    "name": "ipython",
    "version": 3
   },
   "file_extension": ".py",
   "mimetype": "text/x-python",
   "name": "python",
   "nbconvert_exporter": "python",
   "pygments_lexer": "ipython3",
   "version": "3.7.2"
  }
 },
 "nbformat": 4,
 "nbformat_minor": 2
}
